{
 "cells": [
  {
   "cell_type": "markdown",
   "metadata": {},
   "source": [
    "   # Assignment 1 - Three Number Sum\n",
    "- Write a function that takes in a non-empty array of distinct integers and an integer representing a target sum. The function should find all the triplets in the array that sum up to the target sum and return a two-dimentional array of all these triplets. The number in the triplet should be ordered in ascending order, and the triplets themselves should be ordered in ascending order with respect to the numbers they hold. If no three numbers sum up to the target sum, the function should return an empty array."
   ]
  },
  {
   "cell_type": "markdown",
   "metadata": {},
   "source": [
    "## Solution"
   ]
  },
  {
   "cell_type": "code",
   "execution_count": 21,
   "metadata": {},
   "outputs": [
    {
     "data": {
      "text/plain": [
       "[[1, 4, 15], [2, 3, 15], [3, 7, 10], [4, 6, 10]]"
      ]
     },
     "execution_count": 21,
     "metadata": {},
     "output_type": "execute_result"
    }
   ],
   "source": [
    "#Define a function to hold the non-empty array of distinct integers and target sum\n",
    "def func(input_list, target_sum):\n",
    "    combs = []\n",
    "    result = []\n",
    "    for items in input_list:\n",
    "        ind = input_list.index(items)\n",
    "        for items2 in input_list[ind + 1:]:\n",
    "            ind2 = input_list.index(items2)\n",
    "            for items3 in input_list[ind2 + 1:]:\n",
    "                combs.append([items,items2,items3])\n",
    "    for comb in combs:\n",
    "        if sum(comb) == target_sum:\n",
    "            result.append(sorted(comb))\n",
    "            result.sort()\n",
    "    return result\n",
    "\n",
    "#The target sum and non-empty array of distinct integers\n",
    "target_sum = 20\n",
    "input_list = [4,3,7,6,5,10,1,2,15]\n",
    "\n",
    "#Calling the function\n",
    "func(input_list, target_sum)"
   ]
  },
  {
   "cell_type": "code",
   "execution_count": null,
   "metadata": {},
   "outputs": [],
   "source": []
  }
 ],
 "metadata": {
  "kernelspec": {
   "display_name": "Python 3",
   "language": "python",
   "name": "python3"
  },
  "language_info": {
   "codemirror_mode": {
    "name": "ipython",
    "version": 3
   },
   "file_extension": ".py",
   "mimetype": "text/x-python",
   "name": "python",
   "nbconvert_exporter": "python",
   "pygments_lexer": "ipython3",
   "version": "3.8.5"
  }
 },
 "nbformat": 4,
 "nbformat_minor": 4
}
