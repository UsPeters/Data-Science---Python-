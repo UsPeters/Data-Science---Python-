{
 "cells": [
  {
   "cell_type": "markdown",
   "metadata": {},
   "source": [
    "# Exercise 1 - Strings and Tupels\n",
    "- Given 2 strings, s1 and s2, create a new string by appending s2 in the middle of s1.\n",
    "  \n",
    "\n",
    "- Obtain the domain name (thapar.edu) from the Url:\n",
    " http://www.thapar.edu/index.php/about-us/mission\n",
    "   \n",
    "        \n",
    "- tup = ('www', 'thapar', 'edu','index', 'php', 'about-us', 'mission')\n",
    " make the full Url: www.thapar.edu/index/php/about-us/mission from the tuple above."
   ]
  },
  {
   "cell_type": "markdown",
   "metadata": {},
   "source": [
    "## Solution to Exercise 1"
   ]
  },
  {
   "cell_type": "markdown",
   "metadata": {},
   "source": [
    "##### 1)  Given 2 strings, s1 and s2, create a new string by appending s2 in the middle of s1."
   ]
  },
  {
   "cell_type": "code",
   "execution_count": 2,
   "metadata": {},
   "outputs": [
    {
     "name": "stdout",
     "output_type": "stream",
     "text": [
      "Enter the first word: America\n",
      "Enter the second word: Japan\n",
      "AmeJapanrica\n"
     ]
    }
   ],
   "source": [
    "#Create an Input function to prompt the user to enter two strings\n",
    "\n",
    "s1=input(\"Enter the first word: \")\n",
    "s2=input(\"Enter the second word: \")\n",
    "\n",
    "print(s1[:len(s1)//2] + s2 + s1[len(s1)//2:])"
   ]
  },
  {
   "cell_type": "markdown",
   "metadata": {},
   "source": [
    "###### 2)  Obtain the domain name (thapar.edu) from the url:\n",
    "  http://www.thapar.edu/index.php/about-us/mission\n"
   ]
  },
  {
   "cell_type": "code",
   "execution_count": 3,
   "metadata": {},
   "outputs": [
    {
     "data": {
      "text/plain": [
       "['thapar.edu']"
      ]
     },
     "execution_count": 3,
     "metadata": {},
     "output_type": "execute_result"
    }
   ],
   "source": [
    "import re\n",
    "Url = \"http://www.thapar.edu/index.php/about-us/mission\"\n",
    "DomName = 'thapar.edu'\n",
    "re.findall(DomName, Url, flags=re.IGNORECASE)\n"
   ]
  },
  {
   "cell_type": "markdown",
   "metadata": {},
   "source": [
    "##### 3)  tup = ('www', 'thapar', 'edu','index', 'php', 'about-us', 'mission')\n",
    "make the full url: www.thapar.edu/index/php/about-us/mission from the tuple above."
   ]
  },
  {
   "cell_type": "code",
   "execution_count": 4,
   "metadata": {},
   "outputs": [
    {
     "data": {
      "text/plain": [
       "'www.thapar.edu/index/php/about-us/mission'"
      ]
     },
     "execution_count": 4,
     "metadata": {},
     "output_type": "execute_result"
    }
   ],
   "source": [
    "tup = ('www','thapar','edu','index','php','about-us','mission')\n",
    "a = '.'\n",
    "b = '/'\n",
    "tup[0]+ a + tup[1] + a + tup[2] + b + tup[3] + b + tup[4] + b + tup[5] + b + tup[6]"
   ]
  },
  {
   "cell_type": "markdown",
   "metadata": {},
   "source": [
    "# Exercise 2 - Lists and Dictionaries\n",
    "-  Write a program using the following list and sort it based on the sum of the values of the tuples of the list:\n",
    "    - [(1,5),(9,0),(12,3),(5,4),(13,6),(1,1)]\n",
    "\n",
    "    \n",
    "-  Given a two Python list. Iterate both lists simultaneously such that list1 should display item in original order\n",
    "and list2 in reverse order:\n",
    "    - list1 = [10, 20, 30, 40], list2 = [100, 200, 300, 400]\n",
    "\n",
    "\n",
    "\n",
    "-  Write a Python program to count the number of strings where the string length is 2 or more and \n",
    "the first and last character are same from a given list of strings:\n",
    "    - ['abc', 'xyz', 'aba', '1221', 'bhgsskknb', 'aa'] \n",
    "    \n",
    "- Given a list of 1 through 10, write a program to display the square root of the even numbers\n",
    "\n",
    "- write a program such that $list1$ will act as keys while $list2$ will act as the values of the dictionary:\n",
    "    - list1 = [1, 2, 3, 4, 5], list2 = [\"a\", \"b\", \"c\",\"d\", \"e\"] "
   ]
  },
  {
   "cell_type": "markdown",
   "metadata": {},
   "source": [
    "## Solution to Exercise 2"
   ]
  },
  {
   "cell_type": "markdown",
   "metadata": {},
   "source": [
    "##### 1) Write a program using the following list and sort it based on the sum of the values of the tuples of the list:\n",
    "- [(1,5),(9,0),(12,3),(5,4),(13,6),(1,1)]"
   ]
  },
  {
   "cell_type": "code",
   "execution_count": 35,
   "metadata": {},
   "outputs": [
    {
     "name": "stdout",
     "output_type": "stream",
     "text": [
      "The given list is:\n",
      " [(1, 5), (9, 0), (12, 3), (5, 4), (13, 6), (1, 1)] \n",
      "\n",
      "while,\n",
      "\n",
      "The sorted list based on their sum in ascending order is:\n",
      " [(1, 1), (1, 5), (9, 0), (5, 4), (12, 3), (13, 6)]\n"
     ]
    }
   ],
   "source": [
    "# The Given list\n",
    "List1 = [(1,5),(9,0),(12,3),(5,4),(13,6),(1,1)]\n",
    "\n",
    "#Print the given list\n",
    "print('The given list is:\\n', List1, '\\n\\nwhile,')\n",
    "\n",
    "#Passing lambda as key to sort list of tupel\n",
    "sor = sorted(List1, key = lambda i: i[0] + i[1])\n",
    "\n",
    "#Printing sorted list\n",
    "print('\\nThe sorted list based on their sum in ascending order is:\\n', sor)"
   ]
  },
  {
   "cell_type": "markdown",
   "metadata": {},
   "source": [
    "##### 2) Given a two Python list. Iterate both lists simultaneously such that list1 should display item in original order and list2 in reverse order:\n",
    "- list1 = [10, 20, 30, 40],\n",
    "- list2 = [100, 200, 300, 400]\n"
   ]
  },
  {
   "cell_type": "code",
   "execution_count": 7,
   "metadata": {},
   "outputs": [
    {
     "name": "stdout",
     "output_type": "stream",
     "text": [
      "The iteration of list1 in its original order and list2 in its reverse order is:\n",
      " [(10, 400), (20, 300), (30, 200), (40, 100)]\n"
     ]
    }
   ],
   "source": [
    "#The Given list\n",
    "list1 = [10, 20, 30, 40]\n",
    "list2 = [100, 200, 300, 400]\n",
    "\n",
    "#Using for-loop, zip() and idea on list comprehension\n",
    "x=[(a,b) for a, b in zip(list1, list2[::-1])]\n",
    "\n",
    "\n",
    "#Printing result\n",
    "print('The iteration of list1 in its original order and list2 in its reverse order is:\\n', x)"
   ]
  },
  {
   "cell_type": "markdown",
   "metadata": {},
   "source": [
    "##### 3) Write a Python program to count the number of strings where the string length is 2 or more and the first and last character are same from a given list of strings:\n",
    "- ['abc', 'xyz', 'aba', '1221', 'bhgsskknb', 'aa']"
   ]
  },
  {
   "cell_type": "code",
   "execution_count": 25,
   "metadata": {},
   "outputs": [
    {
     "name": "stdout",
     "output_type": "stream",
     "text": [
      "We have just 4 strings and they're:  ['aba', '1221', 'bhgsskknb', 'aa']\n"
     ]
    }
   ],
   "source": [
    "#The given list\n",
    "list_1 = ['abc', 'xyz', 'aba', '1221', 'bhgsskknb', 'aa']\n",
    "\n",
    "#Using list comprehenson to check for items with length of at least 2 and with identical first & last characters\n",
    "num = [i for i in list_1 if len(i) >= 2 if i[0] == i[-1]]\n",
    "\n",
    "#result of items that fulfill those conditions\n",
    "num\n",
    "\n",
    "#no. of items that fulfill those conditions\n",
    "len(num)\n",
    "\n",
    "#printing result \n",
    "print('We have just', len(num), \"strings and they're: \", num)"
   ]
  },
  {
   "cell_type": "markdown",
   "metadata": {},
   "source": [
    "##### 4) Given a list of 1 through 10, write a program to display the square root of the even numbers"
   ]
  },
  {
   "cell_type": "code",
   "execution_count": null,
   "metadata": {},
   "outputs": [],
   "source": [
    "#The list of numbers from 1 through 10 using range()\n",
    "List = range(1,11)\n",
    "\n",
    "#Using list comprehenson to check for even numbers and then taking their square root\n",
    "SqrEveNo = [i ** 0.5 for i in List if i % 2 == 0]\n",
    "SqrEveNo\n",
    "\n",
    "#printing result\n",
    "print('The square root of all the even numbers in the list are:\\n', SqrEveNo)"
   ]
  },
  {
   "cell_type": "markdown",
   "metadata": {},
   "source": [
    "##### 5) write a program such that  𝑙𝑖𝑠𝑡1  will act as keys while  𝑙𝑖𝑠𝑡2  will act as the values of the dictionary:\n",
    "- list1 = [1, 2, 3, 4, 5], list2 = [\"a\", \"b\", \"c\",\"d\", \"e\"]"
   ]
  },
  {
   "cell_type": "code",
   "execution_count": 1,
   "metadata": {},
   "outputs": [
    {
     "data": {
      "text/plain": [
       "{1: 'a', 2: 'b', 3: 'c', 4: 'd', 5: 'e'}"
      ]
     },
     "execution_count": 1,
     "metadata": {},
     "output_type": "execute_result"
    }
   ],
   "source": [
    "#The given list\n",
    "list1 = [1, 2, 3, 4, 5]\n",
    "list2 = [\"a\", \"b\", \"c\",\"d\", \"e\"]\n",
    "\n",
    "#first iterate both lists simultaneously to form a list of tuple\n",
    "iterated_list = [(a,b) for a, b in zip(list1, list2)]\n",
    "iterated_list\n",
    "\n",
    "#convert the list to a dictionary using dict()\n",
    "dict(iterated_list)"
   ]
  },
  {
   "cell_type": "markdown",
   "metadata": {},
   "source": [
    "# Exercise 3 - Control_Statement and Functions"
   ]
  },
  {
   "cell_type": "markdown",
   "metadata": {},
   "source": [
    "- Write a Python function to multiply all the numbers in a list: [8, 2, 3, -1, 7]\n",
    "    \n",
    "    \n",
    "    \n",
    "- Write a Python function to collect worker's number of hours worked per week and the wage \n",
    "rate per hour, and then find the total payment for each worker. But, if the hours worked per week is \n",
    "more than 40 hours, then the wroker gets 5% bonus.\n",
    "\n",
    "\n",
    "\n",
    "- Write a Python program to find the Factorial of a number."
   ]
  },
  {
   "cell_type": "markdown",
   "metadata": {},
   "source": [
    "## Solution to Exercise 3"
   ]
  },
  {
   "cell_type": "markdown",
   "metadata": {},
   "source": [
    "###### 1) Write a Python function to multiply all the numbers in a list: [8, 2, 3, -1, 7]\n",
    "     "
   ]
  },
  {
   "cell_type": "code",
   "execution_count": 2,
   "metadata": {},
   "outputs": [
    {
     "name": "stdout",
     "output_type": "stream",
     "text": [
      "-336\n"
     ]
    }
   ],
   "source": [
    "#The given list\n",
    "list=[8, 2, 3, -1, 7]\n",
    "\n",
    "#Define a function\n",
    "def Prodlist(list):\n",
    "    x = 1\n",
    "    for no in list:\n",
    "        x = no*x\n",
    "    return x\n",
    "\n",
    "#Printing result\n",
    "print(Prodlist(list))"
   ]
  },
  {
   "cell_type": "markdown",
   "metadata": {},
   "source": [
    "###### 2) Write a Python function to collect worker's number of hours worked per week and the wage rate per hour, and then find the total payment for each worker. But, if the hours worked per week is more than 40 hours, then the wroker gets 5% bonus.\n"
   ]
  },
  {
   "cell_type": "code",
   "execution_count": 3,
   "metadata": {},
   "outputs": [
    {
     "name": "stdout",
     "output_type": "stream",
     "text": [
      "Enter the number of hours you worked this week: 54\n",
      "Enter your wage rate per hour: 300\n",
      "Welldone! you worked extra this week making your total pay to be N17010\n"
     ]
    }
   ],
   "source": [
    "#Collecting details from the worker\n",
    "No_hrsWk = int(input(\"Enter the number of hours you worked this week: \" ))\n",
    "Wage_Ratehrs = int(input(\"Enter your wage rate per hour: \" ))\n",
    "TolPay = int(No_hrsWk * Wage_Ratehrs)\n",
    "\n",
    "if No_hrsWk <= 40:\n",
    "    print(\"Your total pay for this week is N\"+str(TolPay))\n",
    "else:\n",
    "    TolPay += int(0.05 * TolPay)\n",
    "    print(\"Welldone! you worked extra this week making your total pay to be N\"+str(TolPay))\n"
   ]
  },
  {
   "cell_type": "markdown",
   "metadata": {},
   "source": [
    "##### 3) Write a Python program to find the Factorial of a number. "
   ]
  },
  {
   "cell_type": "code",
   "execution_count": 12,
   "metadata": {},
   "outputs": [
    {
     "name": "stdout",
     "output_type": "stream",
     "text": [
      "Enter a number: 5\n",
      "The factorial of 5 is 120\n"
     ]
    }
   ],
   "source": [
    "#Prompt user to enter  number\n",
    "num = int(input('Enter a number: '))\n",
    "factc=1\n",
    "if  num < 0:\n",
    "    print(\"Sorry, factorial doesn't exist for negative numbers.\")\n",
    "    \n",
    "elif num ==0 or num==1:\n",
    "    print(\"The factorial of\", num,\"is 1 \")\n",
    "    \n",
    "else:\n",
    "    for no in range(2,num +1):\n",
    "        factc = no*factc\n",
    "    print(\"The factorial of\",num,\"is\",factc)\n",
    "    "
   ]
  }
 ],
 "metadata": {
  "kernelspec": {
   "display_name": "Python 3",
   "language": "python",
   "name": "python3"
  },
  "language_info": {
   "codemirror_mode": {
    "name": "ipython",
    "version": 3
   },
   "file_extension": ".py",
   "mimetype": "text/x-python",
   "name": "python",
   "nbconvert_exporter": "python",
   "pygments_lexer": "ipython3",
   "version": "3.8.5"
  }
 },
 "nbformat": 4,
 "nbformat_minor": 4
}
